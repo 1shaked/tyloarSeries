{
 "cells": [
  {
   "cell_type": "code",
   "execution_count": 1,
   "id": "77293b01",
   "metadata": {},
   "outputs": [],
   "source": [
    "import math\n",
    "def factorial(num):\n",
    "    total = 1\n",
    "    for i in range(1,num + 1):\n",
    "        total = i * total\n",
    "    return total\n",
    "\n",
    "def getEFor1(accuracy = 10):\n",
    "    e = 0\n",
    "    for i in range(accuracy):\n",
    "        e += (1/ factorial(i))\n",
    "    return e"
   ]
  },
  {
   "cell_type": "code",
   "execution_count": 45,
   "id": "f9db621e",
   "metadata": {},
   "outputs": [],
   "source": [
    "def calcE(around = 0, acuurecy = 6, x = 0):\n",
    "    e = 0\n",
    "    eValue = getEFor1(accuracy=10)\n",
    "    for i in range(acuurecy):\n",
    "        power = math.pow((x - around), i)\n",
    "        value =   power * math.pow(eValue, around) / factorial(i)\n",
    "        e += value\n",
    "    return e"
   ]
  },
  {
   "cell_type": "code",
   "execution_count": null,
   "id": "a2d12b54",
   "metadata": {},
   "outputs": [],
   "source": []
  },
  {
   "cell_type": "code",
   "execution_count": null,
   "id": "b8bb54c5",
   "metadata": {},
   "outputs": [],
   "source": []
  },
  {
   "cell_type": "code",
   "execution_count": 50,
   "id": "48d5f596",
   "metadata": {},
   "outputs": [
    {
     "name": "stdout",
     "output_type": "stream",
     "text": [
      "7.389048558172324\n"
     ]
    }
   ],
   "source": [
    "# series from 3 around x = 2\n",
    "print(calcE(around=3,acuurecy=10 , x=2))"
   ]
  },
  {
   "cell_type": "code",
   "execution_count": null,
   "id": "bbab70c7",
   "metadata": {},
   "outputs": [],
   "source": []
  },
  {
   "cell_type": "code",
   "execution_count": 51,
   "id": "b4b864a7",
   "metadata": {},
   "outputs": [
    {
     "name": "stdout",
     "output_type": "stream",
     "text": [
      "7.3887125220458545\n"
     ]
    }
   ],
   "source": [
    "# series form 0 at x = 2\n",
    "print(calcE(around=0,acuurecy=10 , x=2))"
   ]
  },
  {
   "cell_type": "code",
   "execution_count": null,
   "id": "47764038",
   "metadata": {},
   "outputs": [],
   "source": []
  },
  {
   "cell_type": "code",
   "execution_count": null,
   "id": "04ca2f16",
   "metadata": {},
   "outputs": [],
   "source": []
  }
 ],
 "metadata": {
  "kernelspec": {
   "display_name": "Python 3",
   "language": "python",
   "name": "python3"
  },
  "language_info": {
   "codemirror_mode": {
    "name": "ipython",
    "version": 3
   },
   "file_extension": ".py",
   "mimetype": "text/x-python",
   "name": "python",
   "nbconvert_exporter": "python",
   "pygments_lexer": "ipython3",
   "version": "3.8.8"
  }
 },
 "nbformat": 4,
 "nbformat_minor": 5
}
